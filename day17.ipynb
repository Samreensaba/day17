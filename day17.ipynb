{
 "cells": [
  {
   "cell_type": "code",
   "execution_count": 2,
   "id": "bb4c51cb-1d06-4bf6-ad40-93b28a9a8b89",
   "metadata": {},
   "outputs": [
    {
     "name": "stdout",
     "output_type": "stream",
     "text": [
      "E P I C    🪨  🧻  ✂️    B A T T L E\n",
      "Select your move (R, P or S)\n",
      "\n",
      "Round  1\n"
     ]
    },
    {
     "name": "stdin",
     "output_type": "stream",
     "text": [
      "Player 1 >  ········\n",
      "Player 2 >  ········\n"
     ]
    },
    {
     "name": "stdout",
     "output_type": "stream",
     "text": [
      "Scissors beats paper! Player1 is the winner.\n",
      "Player 1 Score:  1 Player 2 Score:  0\n",
      "\n",
      "Round  2\n"
     ]
    },
    {
     "name": "stdin",
     "output_type": "stream",
     "text": [
      "Player 1 >  ········\n",
      "Player 2 >  ········\n"
     ]
    },
    {
     "name": "stdout",
     "output_type": "stream",
     "text": [
      "Scissors beats paper! Player1 is the winner.\n",
      "Player 1 Score:  2 Player 2 Score:  0\n",
      "\n",
      "Round  3\n"
     ]
    },
    {
     "name": "stdin",
     "output_type": "stream",
     "text": [
      "Player 1 >  ········\n",
      "Player 2 >  ········\n"
     ]
    },
    {
     "name": "stdout",
     "output_type": "stream",
     "text": [
      "Scissors beats paper! Player1 is the winner.\n",
      "Player 1 Score:  3 Player 2 Score:  0\n",
      "Thanks for playing\n",
      "\n",
      "Round  4\n"
     ]
    },
    {
     "name": "stdin",
     "output_type": "stream",
     "text": [
      "Player 1 >  ········\n",
      "Player 2 >  ········\n"
     ]
    },
    {
     "name": "stdout",
     "output_type": "stream",
     "text": [
      "Invalid move. Try again!\n"
     ]
    }
   ],
   "source": [
    "from getpass import getpass as input\n",
    "print(\"E P I C    🪨  🧻  ✂️    B A T T L E\")\n",
    "print(\"Select your move (R, P or S)\")\n",
    "round = 1\n",
    "player1_score = 0\n",
    "player2_score = 0\n",
    "while True:\n",
    "  print()\n",
    "  print(\"Round \", round)\n",
    "  player1 = input(\"Player 1 > \")\n",
    "  player2 = input(\"Player 2 > \")\n",
    "  if player1 == \"R\" and player2 == \"R\":\n",
    "    print(\"You both picked Rock, draw!\")\n",
    "  elif player1 == \"S\" and player2 == \"S\":\n",
    "      print(\"Ka-Shing! Scissors bounce off each other like a dodgy sword fight! Draw.\")\n",
    "      round +=1\n",
    "  elif player1 == \"P\" and player2 == \"P\":\n",
    "      print(\"Two bits of paper flap at each other. Dissapointing. Draw.\")\n",
    "      round +=1\n",
    "  elif player1 == \"R\" and player2 == \"P\":\n",
    "    print(\"Player1's Rock is smothered by Player2's Paper!\")\n",
    "    player2_score += 1\n",
    "    round +=1\n",
    "  elif player1 == \"R\" and player2 == \"S\":\n",
    "    print(\"Player1 smashed Player2's Scissors into dust with their Rock!\")\n",
    "    player1_score += 1\n",
    "    round +=1\n",
    "  elif player1 == \"P\" and player2 == \"R\":\n",
    "    print(\"Player1 wins! Paper beats rock!\")\n",
    "    player1_score +=1\n",
    "    round +=1\n",
    "  elif player1 == \"P\" and player2 == \"S\":\n",
    "    print(\"Player1's Paper is cut into tiny pieces by Player2's Scissors!\")\n",
    "    player2_score +=1\n",
    "    round +=1\n",
    "  elif player1 == \"S\" and player2 == \"R\":\n",
    "    print(\"Player2 beats player1 wiht rock!\")\n",
    "    player2_score +=1\n",
    "    round +=1\n",
    "  elif player1 == \"S\" and player2 == \"P\":\n",
    "    print(\"Scissors beats paper! Player1 is the winner.\")\n",
    "    player1_score += 1\n",
    "    round +=1\n",
    "  else:\n",
    "    print(\"Invalid move. Try again!\")\n",
    "    break\n",
    "  print(\"Player 1 Score: \", player1_score, \"Player 2 Score: \", player2_score)\n",
    "\n",
    "  if player1_score == 3 or player2_score == 3:\n",
    "    print(\"Thanks for playing\")\n",
    "    exit()\n",
    "  else:\n",
    "    continue"
   ]
  },
  {
   "cell_type": "code",
   "execution_count": null,
   "id": "5513a1bb-f924-4c0c-a42b-ed88b2ed6233",
   "metadata": {},
   "outputs": [],
   "source": []
  }
 ],
 "metadata": {
  "kernelspec": {
   "display_name": "Python 3 (ipykernel)",
   "language": "python",
   "name": "python3"
  },
  "language_info": {
   "codemirror_mode": {
    "name": "ipython",
    "version": 3
   },
   "file_extension": ".py",
   "mimetype": "text/x-python",
   "name": "python",
   "nbconvert_exporter": "python",
   "pygments_lexer": "ipython3",
   "version": "3.12.4"
  }
 },
 "nbformat": 4,
 "nbformat_minor": 5
}
